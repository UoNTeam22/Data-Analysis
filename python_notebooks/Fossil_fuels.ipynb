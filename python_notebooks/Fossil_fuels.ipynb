{
 "cells": [
  {
   "cell_type": "code",
   "execution_count": 2,
   "id": "8d3ddd81",
   "metadata": {},
   "outputs": [],
   "source": [
    "# importing libraries\n",
    "import pandas as pd\n",
    "import numpy as np\n",
    "import matplotlib.pyplot as plt"
   ]
  },
  {
   "cell_type": "code",
   "execution_count": 3,
   "id": "d573f503",
   "metadata": {},
   "outputs": [
    {
     "data": {
      "text/html": [
       "<div>\n",
       "<style scoped>\n",
       "    .dataframe tbody tr th:only-of-type {\n",
       "        vertical-align: middle;\n",
       "    }\n",
       "\n",
       "    .dataframe tbody tr th {\n",
       "        vertical-align: top;\n",
       "    }\n",
       "\n",
       "    .dataframe thead th {\n",
       "        text-align: right;\n",
       "    }\n",
       "</style>\n",
       "<table border=\"1\" class=\"dataframe\">\n",
       "  <thead>\n",
       "    <tr style=\"text-align: right;\">\n",
       "      <th></th>\n",
       "      <th>Year</th>\n",
       "      <th>Total</th>\n",
       "      <th>Gas Fuel</th>\n",
       "      <th>Liquid Fuel</th>\n",
       "      <th>Solid Fuel</th>\n",
       "      <th>Cement</th>\n",
       "      <th>Gas Flaring</th>\n",
       "      <th>Per Capita</th>\n",
       "    </tr>\n",
       "  </thead>\n",
       "  <tbody>\n",
       "    <tr>\n",
       "      <th>0</th>\n",
       "      <td>1751</td>\n",
       "      <td>3</td>\n",
       "      <td>0</td>\n",
       "      <td>0</td>\n",
       "      <td>3</td>\n",
       "      <td>0</td>\n",
       "      <td>0</td>\n",
       "      <td>NaN</td>\n",
       "    </tr>\n",
       "    <tr>\n",
       "      <th>1</th>\n",
       "      <td>1752</td>\n",
       "      <td>3</td>\n",
       "      <td>0</td>\n",
       "      <td>0</td>\n",
       "      <td>3</td>\n",
       "      <td>0</td>\n",
       "      <td>0</td>\n",
       "      <td>NaN</td>\n",
       "    </tr>\n",
       "    <tr>\n",
       "      <th>2</th>\n",
       "      <td>1753</td>\n",
       "      <td>3</td>\n",
       "      <td>0</td>\n",
       "      <td>0</td>\n",
       "      <td>3</td>\n",
       "      <td>0</td>\n",
       "      <td>0</td>\n",
       "      <td>NaN</td>\n",
       "    </tr>\n",
       "    <tr>\n",
       "      <th>3</th>\n",
       "      <td>1754</td>\n",
       "      <td>3</td>\n",
       "      <td>0</td>\n",
       "      <td>0</td>\n",
       "      <td>3</td>\n",
       "      <td>0</td>\n",
       "      <td>0</td>\n",
       "      <td>NaN</td>\n",
       "    </tr>\n",
       "    <tr>\n",
       "      <th>4</th>\n",
       "      <td>1755</td>\n",
       "      <td>3</td>\n",
       "      <td>0</td>\n",
       "      <td>0</td>\n",
       "      <td>3</td>\n",
       "      <td>0</td>\n",
       "      <td>0</td>\n",
       "      <td>NaN</td>\n",
       "    </tr>\n",
       "    <tr>\n",
       "      <th>...</th>\n",
       "      <td>...</td>\n",
       "      <td>...</td>\n",
       "      <td>...</td>\n",
       "      <td>...</td>\n",
       "      <td>...</td>\n",
       "      <td>...</td>\n",
       "      <td>...</td>\n",
       "      <td>...</td>\n",
       "    </tr>\n",
       "    <tr>\n",
       "      <th>255</th>\n",
       "      <td>2006</td>\n",
       "      <td>8370</td>\n",
       "      <td>1525</td>\n",
       "      <td>3089</td>\n",
       "      <td>3339</td>\n",
       "      <td>356</td>\n",
       "      <td>61</td>\n",
       "      <td>1.27</td>\n",
       "    </tr>\n",
       "    <tr>\n",
       "      <th>256</th>\n",
       "      <td>2007</td>\n",
       "      <td>8566</td>\n",
       "      <td>1572</td>\n",
       "      <td>3081</td>\n",
       "      <td>3464</td>\n",
       "      <td>382</td>\n",
       "      <td>68</td>\n",
       "      <td>1.28</td>\n",
       "    </tr>\n",
       "    <tr>\n",
       "      <th>257</th>\n",
       "      <td>2008</td>\n",
       "      <td>8783</td>\n",
       "      <td>1631</td>\n",
       "      <td>3122</td>\n",
       "      <td>3571</td>\n",
       "      <td>388</td>\n",
       "      <td>71</td>\n",
       "      <td>1.30</td>\n",
       "    </tr>\n",
       "    <tr>\n",
       "      <th>258</th>\n",
       "      <td>2009</td>\n",
       "      <td>8740</td>\n",
       "      <td>1585</td>\n",
       "      <td>3056</td>\n",
       "      <td>3620</td>\n",
       "      <td>413</td>\n",
       "      <td>66</td>\n",
       "      <td>1.28</td>\n",
       "    </tr>\n",
       "    <tr>\n",
       "      <th>259</th>\n",
       "      <td>2010</td>\n",
       "      <td>9167</td>\n",
       "      <td>1702</td>\n",
       "      <td>3114</td>\n",
       "      <td>3842</td>\n",
       "      <td>450</td>\n",
       "      <td>59</td>\n",
       "      <td>1.33</td>\n",
       "    </tr>\n",
       "  </tbody>\n",
       "</table>\n",
       "<p>260 rows × 8 columns</p>\n",
       "</div>"
      ],
      "text/plain": [
       "     Year  Total  Gas Fuel  Liquid Fuel  Solid Fuel  Cement  Gas Flaring  \\\n",
       "0    1751      3         0            0           3       0            0   \n",
       "1    1752      3         0            0           3       0            0   \n",
       "2    1753      3         0            0           3       0            0   \n",
       "3    1754      3         0            0           3       0            0   \n",
       "4    1755      3         0            0           3       0            0   \n",
       "..    ...    ...       ...          ...         ...     ...          ...   \n",
       "255  2006   8370      1525         3089        3339     356           61   \n",
       "256  2007   8566      1572         3081        3464     382           68   \n",
       "257  2008   8783      1631         3122        3571     388           71   \n",
       "258  2009   8740      1585         3056        3620     413           66   \n",
       "259  2010   9167      1702         3114        3842     450           59   \n",
       "\n",
       "     Per Capita  \n",
       "0           NaN  \n",
       "1           NaN  \n",
       "2           NaN  \n",
       "3           NaN  \n",
       "4           NaN  \n",
       "..          ...  \n",
       "255        1.27  \n",
       "256        1.28  \n",
       "257        1.30  \n",
       "258        1.28  \n",
       "259        1.33  \n",
       "\n",
       "[260 rows x 8 columns]"
      ]
     },
     "execution_count": 3,
     "metadata": {},
     "output_type": "execute_result"
    }
   ],
   "source": [
    "# reading data\n",
    "df = pd.read_csv(\"global_csv.csv\")\n",
    "df"
   ]
  },
  {
   "cell_type": "code",
   "execution_count": 4,
   "id": "7ee880fb",
   "metadata": {
    "scrolled": false
   },
   "outputs": [
    {
     "data": {
      "text/html": [
       "<div>\n",
       "<style scoped>\n",
       "    .dataframe tbody tr th:only-of-type {\n",
       "        vertical-align: middle;\n",
       "    }\n",
       "\n",
       "    .dataframe tbody tr th {\n",
       "        vertical-align: top;\n",
       "    }\n",
       "\n",
       "    .dataframe thead th {\n",
       "        text-align: right;\n",
       "    }\n",
       "</style>\n",
       "<table border=\"1\" class=\"dataframe\">\n",
       "  <thead>\n",
       "    <tr style=\"text-align: right;\">\n",
       "      <th></th>\n",
       "      <th>Year</th>\n",
       "      <th>Total</th>\n",
       "      <th>Gas Fuel</th>\n",
       "      <th>Liquid Fuel</th>\n",
       "      <th>Solid Fuel</th>\n",
       "      <th>Cement</th>\n",
       "      <th>Gas Flaring</th>\n",
       "      <th>Per Capita</th>\n",
       "    </tr>\n",
       "  </thead>\n",
       "  <tbody>\n",
       "    <tr>\n",
       "      <th>199</th>\n",
       "      <td>1950</td>\n",
       "      <td>1630</td>\n",
       "      <td>97</td>\n",
       "      <td>423</td>\n",
       "      <td>1070</td>\n",
       "      <td>18</td>\n",
       "      <td>23</td>\n",
       "      <td>0.64</td>\n",
       "    </tr>\n",
       "    <tr>\n",
       "      <th>200</th>\n",
       "      <td>1951</td>\n",
       "      <td>1767</td>\n",
       "      <td>115</td>\n",
       "      <td>479</td>\n",
       "      <td>1129</td>\n",
       "      <td>20</td>\n",
       "      <td>24</td>\n",
       "      <td>0.69</td>\n",
       "    </tr>\n",
       "    <tr>\n",
       "      <th>201</th>\n",
       "      <td>1952</td>\n",
       "      <td>1795</td>\n",
       "      <td>124</td>\n",
       "      <td>504</td>\n",
       "      <td>1119</td>\n",
       "      <td>22</td>\n",
       "      <td>26</td>\n",
       "      <td>0.68</td>\n",
       "    </tr>\n",
       "    <tr>\n",
       "      <th>202</th>\n",
       "      <td>1953</td>\n",
       "      <td>1841</td>\n",
       "      <td>131</td>\n",
       "      <td>533</td>\n",
       "      <td>1125</td>\n",
       "      <td>24</td>\n",
       "      <td>27</td>\n",
       "      <td>0.69</td>\n",
       "    </tr>\n",
       "    <tr>\n",
       "      <th>203</th>\n",
       "      <td>1954</td>\n",
       "      <td>1865</td>\n",
       "      <td>138</td>\n",
       "      <td>557</td>\n",
       "      <td>1116</td>\n",
       "      <td>27</td>\n",
       "      <td>27</td>\n",
       "      <td>0.69</td>\n",
       "    </tr>\n",
       "    <tr>\n",
       "      <th>...</th>\n",
       "      <td>...</td>\n",
       "      <td>...</td>\n",
       "      <td>...</td>\n",
       "      <td>...</td>\n",
       "      <td>...</td>\n",
       "      <td>...</td>\n",
       "      <td>...</td>\n",
       "      <td>...</td>\n",
       "    </tr>\n",
       "    <tr>\n",
       "      <th>255</th>\n",
       "      <td>2006</td>\n",
       "      <td>8370</td>\n",
       "      <td>1525</td>\n",
       "      <td>3089</td>\n",
       "      <td>3339</td>\n",
       "      <td>356</td>\n",
       "      <td>61</td>\n",
       "      <td>1.27</td>\n",
       "    </tr>\n",
       "    <tr>\n",
       "      <th>256</th>\n",
       "      <td>2007</td>\n",
       "      <td>8566</td>\n",
       "      <td>1572</td>\n",
       "      <td>3081</td>\n",
       "      <td>3464</td>\n",
       "      <td>382</td>\n",
       "      <td>68</td>\n",
       "      <td>1.28</td>\n",
       "    </tr>\n",
       "    <tr>\n",
       "      <th>257</th>\n",
       "      <td>2008</td>\n",
       "      <td>8783</td>\n",
       "      <td>1631</td>\n",
       "      <td>3122</td>\n",
       "      <td>3571</td>\n",
       "      <td>388</td>\n",
       "      <td>71</td>\n",
       "      <td>1.30</td>\n",
       "    </tr>\n",
       "    <tr>\n",
       "      <th>258</th>\n",
       "      <td>2009</td>\n",
       "      <td>8740</td>\n",
       "      <td>1585</td>\n",
       "      <td>3056</td>\n",
       "      <td>3620</td>\n",
       "      <td>413</td>\n",
       "      <td>66</td>\n",
       "      <td>1.28</td>\n",
       "    </tr>\n",
       "    <tr>\n",
       "      <th>259</th>\n",
       "      <td>2010</td>\n",
       "      <td>9167</td>\n",
       "      <td>1702</td>\n",
       "      <td>3114</td>\n",
       "      <td>3842</td>\n",
       "      <td>450</td>\n",
       "      <td>59</td>\n",
       "      <td>1.33</td>\n",
       "    </tr>\n",
       "  </tbody>\n",
       "</table>\n",
       "<p>61 rows × 8 columns</p>\n",
       "</div>"
      ],
      "text/plain": [
       "     Year  Total  Gas Fuel  Liquid Fuel  Solid Fuel  Cement  Gas Flaring  \\\n",
       "199  1950   1630        97          423        1070      18           23   \n",
       "200  1951   1767       115          479        1129      20           24   \n",
       "201  1952   1795       124          504        1119      22           26   \n",
       "202  1953   1841       131          533        1125      24           27   \n",
       "203  1954   1865       138          557        1116      27           27   \n",
       "..    ...    ...       ...          ...         ...     ...          ...   \n",
       "255  2006   8370      1525         3089        3339     356           61   \n",
       "256  2007   8566      1572         3081        3464     382           68   \n",
       "257  2008   8783      1631         3122        3571     388           71   \n",
       "258  2009   8740      1585         3056        3620     413           66   \n",
       "259  2010   9167      1702         3114        3842     450           59   \n",
       "\n",
       "     Per Capita  \n",
       "199        0.64  \n",
       "200        0.69  \n",
       "201        0.68  \n",
       "202        0.69  \n",
       "203        0.69  \n",
       "..          ...  \n",
       "255        1.27  \n",
       "256        1.28  \n",
       "257        1.30  \n",
       "258        1.28  \n",
       "259        1.33  \n",
       "\n",
       "[61 rows x 8 columns]"
      ]
     },
     "execution_count": 4,
     "metadata": {},
     "output_type": "execute_result"
    }
   ],
   "source": [
    "# dropping all rows with null values\n",
    "df = df.dropna()\n",
    "df"
   ]
  },
  {
   "cell_type": "code",
   "execution_count": 5,
   "id": "4d9230fc",
   "metadata": {},
   "outputs": [
    {
     "data": {
      "text/html": [
       "<div>\n",
       "<style scoped>\n",
       "    .dataframe tbody tr th:only-of-type {\n",
       "        vertical-align: middle;\n",
       "    }\n",
       "\n",
       "    .dataframe tbody tr th {\n",
       "        vertical-align: top;\n",
       "    }\n",
       "\n",
       "    .dataframe thead th {\n",
       "        text-align: right;\n",
       "    }\n",
       "</style>\n",
       "<table border=\"1\" class=\"dataframe\">\n",
       "  <thead>\n",
       "    <tr style=\"text-align: right;\">\n",
       "      <th></th>\n",
       "      <th>Total</th>\n",
       "      <th>Gas Fuel</th>\n",
       "      <th>Liquid Fuel</th>\n",
       "      <th>Solid Fuel</th>\n",
       "    </tr>\n",
       "  </thead>\n",
       "  <tbody>\n",
       "    <tr>\n",
       "      <th>199</th>\n",
       "      <td>1630</td>\n",
       "      <td>97</td>\n",
       "      <td>423</td>\n",
       "      <td>1070</td>\n",
       "    </tr>\n",
       "    <tr>\n",
       "      <th>200</th>\n",
       "      <td>1767</td>\n",
       "      <td>115</td>\n",
       "      <td>479</td>\n",
       "      <td>1129</td>\n",
       "    </tr>\n",
       "    <tr>\n",
       "      <th>201</th>\n",
       "      <td>1795</td>\n",
       "      <td>124</td>\n",
       "      <td>504</td>\n",
       "      <td>1119</td>\n",
       "    </tr>\n",
       "    <tr>\n",
       "      <th>202</th>\n",
       "      <td>1841</td>\n",
       "      <td>131</td>\n",
       "      <td>533</td>\n",
       "      <td>1125</td>\n",
       "    </tr>\n",
       "    <tr>\n",
       "      <th>203</th>\n",
       "      <td>1865</td>\n",
       "      <td>138</td>\n",
       "      <td>557</td>\n",
       "      <td>1116</td>\n",
       "    </tr>\n",
       "    <tr>\n",
       "      <th>...</th>\n",
       "      <td>...</td>\n",
       "      <td>...</td>\n",
       "      <td>...</td>\n",
       "      <td>...</td>\n",
       "    </tr>\n",
       "    <tr>\n",
       "      <th>255</th>\n",
       "      <td>8370</td>\n",
       "      <td>1525</td>\n",
       "      <td>3089</td>\n",
       "      <td>3339</td>\n",
       "    </tr>\n",
       "    <tr>\n",
       "      <th>256</th>\n",
       "      <td>8566</td>\n",
       "      <td>1572</td>\n",
       "      <td>3081</td>\n",
       "      <td>3464</td>\n",
       "    </tr>\n",
       "    <tr>\n",
       "      <th>257</th>\n",
       "      <td>8783</td>\n",
       "      <td>1631</td>\n",
       "      <td>3122</td>\n",
       "      <td>3571</td>\n",
       "    </tr>\n",
       "    <tr>\n",
       "      <th>258</th>\n",
       "      <td>8740</td>\n",
       "      <td>1585</td>\n",
       "      <td>3056</td>\n",
       "      <td>3620</td>\n",
       "    </tr>\n",
       "    <tr>\n",
       "      <th>259</th>\n",
       "      <td>9167</td>\n",
       "      <td>1702</td>\n",
       "      <td>3114</td>\n",
       "      <td>3842</td>\n",
       "    </tr>\n",
       "  </tbody>\n",
       "</table>\n",
       "<p>61 rows × 4 columns</p>\n",
       "</div>"
      ],
      "text/plain": [
       "     Total  Gas Fuel  Liquid Fuel  Solid Fuel\n",
       "199   1630        97          423        1070\n",
       "200   1767       115          479        1129\n",
       "201   1795       124          504        1119\n",
       "202   1841       131          533        1125\n",
       "203   1865       138          557        1116\n",
       "..     ...       ...          ...         ...\n",
       "255   8370      1525         3089        3339\n",
       "256   8566      1572         3081        3464\n",
       "257   8783      1631         3122        3571\n",
       "258   8740      1585         3056        3620\n",
       "259   9167      1702         3114        3842\n",
       "\n",
       "[61 rows x 4 columns]"
      ]
     },
     "execution_count": 5,
     "metadata": {},
     "output_type": "execute_result"
    }
   ],
   "source": [
    "df = df.drop(['Year', 'Cement', 'Gas Flaring', 'Per Capita'], axis = 1)\n",
    "df"
   ]
  },
  {
   "cell_type": "code",
   "execution_count": 6,
   "id": "901a4e11",
   "metadata": {},
   "outputs": [],
   "source": [
    "total = df['Total']\n",
    "gas = df['Gas Fuel']\n",
    "liquid = df['Liquid Fuel']\n",
    "solid = df['Solid Fuel']"
   ]
  },
  {
   "cell_type": "code",
   "execution_count": 7,
   "id": "2b1f3f69",
   "metadata": {},
   "outputs": [
    {
     "data": {
      "image/png": "[encoded data removed]",
      "text/plain": [
       "<Figure size 432x288 with 1 Axes>"
      ]
     },
     "metadata": {
      "needs_background": "light"
     },
     "output_type": "display_data"
    }
   ],
   "source": [
    "plt.plot(solid,total)\n",
    "plt.title('The effect of solid fuels on carbon emissions')\n",
    "plt.xlabel('Total number of carbon released by solid fossil fuels')\n",
    "plt.ylabel('Total number of carbon emissions')\n",
    "plt.show()"
   ]
  },
  {
   "cell_type": "code",
   "execution_count": 8,
   "id": "2efcb02b",
   "metadata": {},
   "outputs": [
    {
     "data": {
      "image/png": "[encoded data removed]",
      "text/plain": [
       "<Figure size 432x288 with 1 Axes>"
      ]
     },
     "metadata": {
      "needs_background": "light"
     },
     "output_type": "display_data"
    }
   ],
   "source": [
    "plt.plot(liquid,total)\n",
    "plt.title('The effect of liquid fossil fuels on carbon emissions')\n",
    "plt.xlabel('Total number of carbon released by liquid fossil fuels')\n",
    "plt.ylabel('Total number of carbon emissions')\n",
    "plt.show()"
   ]
  },
  {
   "cell_type": "code",
   "execution_count": 9,
   "id": "2836b847",
   "metadata": {},
   "outputs": [
    {
     "data": {
      "image/png": "[encoded data removed]",
      "text/plain": [
       "<Figure size 432x288 with 1 Axes>"
      ]
     },
     "metadata": {
      "needs_background": "light"
     },
     "output_type": "display_data"
    }
   ],
   "source": [
    "plt.plot(gas,total)\n",
    "plt.title('The effect of gas fossil fuels on carbon emissions')\n",
    "plt.xlabel('Total number of carbon released by gas fossil fuels')\n",
    "plt.ylabel('Total number of carbon emissions')\n",
    "plt.show()"
   ]
  },
  {
   "cell_type": "code",
   "execution_count": 10,
   "id": "c4442781",
   "metadata": {
    "scrolled": true
   },
   "outputs": [],
   "source": [
    "def getEquation(minXValue, maxXValue, minYValue, maxYValue):\n",
    "    from numpy import ones,vstack\n",
    "    from numpy.linalg import lstsq\n",
    "    points = [(minXValue, minYValue),(maxXValue,maxYValue)]\n",
    "    x_coords, y_coords = zip(*points)\n",
    "    A = vstack([x_coords,ones(len(x_coords))]).T\n",
    "    m, c = lstsq(A, y_coords)[0]\n",
    "    print(\"Line Solution is y = {m}x + {c}\".format(m=m,c=c))\n"
   ]
  },
  {
   "cell_type": "code",
   "execution_count": 11,
   "id": "d82ed1a4",
   "metadata": {},
   "outputs": [
    {
     "name": "stdout",
     "output_type": "stream",
     "text": [
      "min x value:  97\n",
      "max x value:  1702\n",
      "min y value:  1630\n",
      "max y value:  9167\n",
      "Line Solution is y = 4.695950155763241x + 1174.492834890965\n"
     ]
    },
    {
     "name": "stderr",
     "output_type": "stream",
     "text": [
      "/var/folders/wn/d97ph6614qd0qb779wxzcsjr0000gn/T/ipykernel_24344/910143262.py:7: FutureWarning: `rcond` parameter will change to the default of machine precision times ``max(M, N)`` where M and N are the input matrix dimensions.\n",
      "To use the future default and silence this warning we advise to pass `rcond=None`, to keep using the old, explicitly pass `rcond=-1`.\n",
      "  m, c = lstsq(A, y_coords)[0]\n"
     ]
    }
   ],
   "source": [
    "# method 1 (comparing min x,y point to max x,y point):\n",
    "# gas equation\n",
    "\n",
    "minXValue = gas.min()\n",
    "maxXValue = gas.max()\n",
    "minYValue = total.min()\n",
    "maxYValue = total.max()\n",
    "\n",
    "print(\"min x value: \", minXValue)\n",
    "print(\"max x value: \", maxXValue)\n",
    "print(\"min y value: \", minYValue)\n",
    "print(\"max y value: \", maxYValue)\n",
    "\n",
    "getEquation(minXValue, maxXValue, minYValue, maxYValue)"
   ]
  },
  {
   "cell_type": "markdown",
   "id": "fd50ecf3",
   "metadata": {},
   "source": [
    "Gas equation: \n",
    "y = 4.7x + 1174"
   ]
  },
  {
   "cell_type": "code",
   "execution_count": 12,
   "id": "e3c23592",
   "metadata": {
    "scrolled": true
   },
   "outputs": [
    {
     "name": "stdout",
     "output_type": "stream",
     "text": [
      "min x value:  423\n",
      "max x value:  3122\n",
      "min y value:  1630\n",
      "max y value:  9167\n",
      "Line Solution is y = 2.7925157465728048x + 448.76583919969966\n"
     ]
    },
    {
     "name": "stderr",
     "output_type": "stream",
     "text": [
      "/var/folders/wn/d97ph6614qd0qb779wxzcsjr0000gn/T/ipykernel_24344/910143262.py:7: FutureWarning: `rcond` parameter will change to the default of machine precision times ``max(M, N)`` where M and N are the input matrix dimensions.\n",
      "To use the future default and silence this warning we advise to pass `rcond=None`, to keep using the old, explicitly pass `rcond=-1`.\n",
      "  m, c = lstsq(A, y_coords)[0]\n"
     ]
    }
   ],
   "source": [
    "# liquid equation\n",
    "minXValue = liquid.min()\n",
    "maxXValue = liquid.max()\n",
    "minYValue = total.min()\n",
    "maxYValue = total.max()\n",
    "\n",
    "print(\"min x value: \", minXValue)\n",
    "print(\"max x value: \", maxXValue)\n",
    "print(\"min y value: \", minYValue)\n",
    "print(\"max y value: \", maxYValue)\n",
    "\n",
    "getEquation(minXValue, maxXValue, minYValue, maxYValue)"
   ]
  },
  {
   "cell_type": "markdown",
   "id": "66958718",
   "metadata": {},
   "source": [
    "y = 2.8x + 449"
   ]
  },
  {
   "cell_type": "code",
   "execution_count": 13,
   "id": "e6ecca65",
   "metadata": {
    "scrolled": false
   },
   "outputs": [
    {
     "name": "stdout",
     "output_type": "stream",
     "text": [
      "min x value:  1070\n",
      "max x value:  3842\n",
      "min y value:  1630\n",
      "max y value:  9167\n",
      "Line Solution is y = 2.7189754689754695x + -1279.3037518037506\n"
     ]
    },
    {
     "name": "stderr",
     "output_type": "stream",
     "text": [
      "/var/folders/wn/d97ph6614qd0qb779wxzcsjr0000gn/T/ipykernel_24344/910143262.py:7: FutureWarning: `rcond` parameter will change to the default of machine precision times ``max(M, N)`` where M and N are the input matrix dimensions.\n",
      "To use the future default and silence this warning we advise to pass `rcond=None`, to keep using the old, explicitly pass `rcond=-1`.\n",
      "  m, c = lstsq(A, y_coords)[0]\n"
     ]
    }
   ],
   "source": [
    "# solid equation\n",
    "minXValue = solid.min()\n",
    "maxXValue = solid.max()\n",
    "minYValue = total.min()\n",
    "maxYValue = total.max()\n",
    "\n",
    "print(\"min x value: \", minXValue)\n",
    "print(\"max x value: \", maxXValue)\n",
    "print(\"min y value: \", minYValue)\n",
    "print(\"max y value: \", maxYValue)\n",
    "\n",
    "getEquation(minXValue, maxXValue, minYValue, maxYValue)"
   ]
  },
  {
   "cell_type": "markdown",
   "id": "b243eb8c",
   "metadata": {},
   "source": [
    "y = 2.7x + 1279"
   ]
  },
  {
   "cell_type": "code",
   "execution_count": 14,
   "id": "921d3e2f",
   "metadata": {},
   "outputs": [],
   "source": [
    "# method 2 (linear regression)\n",
    "outer = []\n",
    "for i in range(len(total)):\n",
    "    for x, y in zip(gas, total):\n",
    "        outer.append([x, y])\n",
    "        \n"
   ]
  },
  {
   "cell_type": "code",
   "execution_count": 15,
   "id": "9b9329f1",
   "metadata": {},
   "outputs": [],
   "source": [
    "dt = np.array(outer)\n",
    "X = dt[:, 0]\n",
    "y = dt[:, 1]"
   ]
  },
  {
   "cell_type": "code",
   "execution_count": 16,
   "id": "a5ed9683",
   "metadata": {},
   "outputs": [
    {
     "name": "stdout",
     "output_type": "stream",
     "text": [
      "The parameters of the line: [   4.32070767 1660.07392999]\n"
     ]
    },
    {
     "data": {
      "image/png": "[encoded data removed]",
      "text/plain": [
       "<Figure size 432x288 with 1 Axes>"
      ]
     },
     "metadata": {
      "needs_background": "light"
     },
     "output_type": "display_data"
    }
   ],
   "source": [
    "theta = np.polyfit(X, y, 1)\n",
    "\n",
    "print(f'The parameters of the line: {theta}')\n",
    "\n",
    "# Now, calculating the y-axis values against x-values according to\n",
    "# the parameters theta0, theta1 and theta2\n",
    "y_line = theta[1] + theta[0] * X\n",
    "\n",
    "# Plotting the data points and the best fit line\n",
    "plt.scatter(X, y)\n",
    "plt.plot(X, y_line, 'r')\n",
    "plt.title('The effect of gas fossil fuels on the amount of carbon emissions')\n",
    "plt.xlabel('total number of carbon released by gas fossil fuels')\n",
    "plt.ylabel('total number of carbon emissions')\n",
    "\n",
    "plt.show()"
   ]
  },
  {
   "cell_type": "markdown",
   "id": "1219f7d7",
   "metadata": {},
   "source": [
    "gas: y = 4.32x + 1660"
   ]
  },
  {
   "cell_type": "code",
   "execution_count": 17,
   "id": "2e624f42",
   "metadata": {},
   "outputs": [],
   "source": [
    "outer = []\n",
    "for i in range(len(total)):\n",
    "    for x, y in zip(liquid, total):\n",
    "        outer.append([x, y])"
   ]
  },
  {
   "cell_type": "code",
   "execution_count": 18,
   "id": "ebafa564",
   "metadata": {},
   "outputs": [],
   "source": [
    "dt = np.array(outer)\n",
    "X = dt[:, 0]\n",
    "y = dt[:, 1]"
   ]
  },
  {
   "cell_type": "code",
   "execution_count": 19,
   "id": "fd0e1b61",
   "metadata": {},
   "outputs": [
    {
     "name": "stdout",
     "output_type": "stream",
     "text": [
      "The parameters of the line: [  2.35363736 264.53167711]\n"
     ]
    },
    {
     "data": {
      "image/png": "[encoded data removed]",
      "text/plain": [
       "<Figure size 432x288 with 1 Axes>"
      ]
     },
     "metadata": {
      "needs_background": "light"
     },
     "output_type": "display_data"
    }
   ],
   "source": [
    "theta = np.polyfit(X, y, 1)\n",
    "\n",
    "print(f'The parameters of the line: {theta}')\n",
    "\n",
    "# Now, calculating the y-axis values against x-values according to\n",
    "# the parameters theta0, theta1 and theta2\n",
    "y_line = theta[1] + theta[0] * X\n",
    "\n",
    "# Plotting the data points and the best fit line\n",
    "plt.scatter(X, y)\n",
    "plt.plot(X, y_line, 'r')\n",
    "plt.title('The effect of liquid fossil fuels on the amount of carbon emissions')\n",
    "plt.xlabel('total number of carbon released by liquid fossil fuels')\n",
    "plt.ylabel('total number of carbon emissions')\n",
    "\n",
    "plt.show()"
   ]
  },
  {
   "cell_type": "markdown",
   "id": "3e936637",
   "metadata": {},
   "source": [
    "y = 2.35x + 264"
   ]
  },
  {
   "cell_type": "code",
   "execution_count": 22,
   "id": "c92464c6",
   "metadata": {},
   "outputs": [],
   "source": [
    "outer = []\n",
    "for i in range(len(total)):\n",
    "    for x, y in zip(solid, total):\n",
    "        outer.append([x, y])"
   ]
  },
  {
   "cell_type": "code",
   "execution_count": 23,
   "id": "97f3cb22",
   "metadata": {},
   "outputs": [],
   "source": [
    "dt = np.array(outer)\n",
    "X = dt[:, 0]\n",
    "y = dt[:, 1]"
   ]
  },
  {
   "cell_type": "code",
   "execution_count": 25,
   "id": "ea5014ab",
   "metadata": {},
   "outputs": [
    {
     "name": "stdout",
     "output_type": "stream",
     "text": [
      "The parameters of the line: [   2.87576936 -802.16892052]\n"
     ]
    },
    {
     "data": {
      "image/png": "[encoded data removed]",
      "text/plain": [
       "<Figure size 432x288 with 1 Axes>"
      ]
     },
     "metadata": {
      "needs_background": "light"
     },
     "output_type": "display_data"
    }
   ],
   "source": [
    "theta = np.polyfit(X, y, 1)\n",
    "\n",
    "print(f'The parameters of the line: {theta}')\n",
    "\n",
    "# Now, calculating the y-axis values against x-values according to\n",
    "# the parameters theta0, theta1 and theta2\n",
    "y_line = theta[1] + theta[0] * X\n",
    "\n",
    "# Plotting the data points and the best fit line\n",
    "plt.scatter(X, y)\n",
    "plt.plot(X, y_line, 'r')\n",
    "plt.title('The effect of solid fossil fuels on the amount of carbon emissions')\n",
    "plt.xlabel('total number of carbon released by solid fossil fuels')\n",
    "plt.ylabel('total number of carbon emissions')\n",
    "\n",
    "plt.show()"
   ]
  },
  {
   "cell_type": "markdown",
   "id": "4ebc9bee",
   "metadata": {},
   "source": [
    "y = 2.88x - 802"
   ]
  },
  {
   "cell_type": "code",
   "execution_count": null,
   "id": "670cb44d",
   "metadata": {},
   "outputs": [],
   "source": []
  }
 ],
 "metadata": {
  "kernelspec": {
   "display_name": "Python 3 (ipykernel)",
   "language": "python",
   "name": "python3"
  },
  "language_info": {
   "codemirror_mode": {
    "name": "ipython",
    "version": 3
   },
   "file_extension": ".py",
   "mimetype": "text/x-python",
   "name": "python",
   "nbconvert_exporter": "python",
   "pygments_lexer": "ipython3",
   "version": "3.9.7"
  }
 },
 "nbformat": 4,
 "nbformat_minor": 5
}
