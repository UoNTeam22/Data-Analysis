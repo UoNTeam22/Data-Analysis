{
 "cells": [
  {
   "cell_type": "code",
   "execution_count": 2,
   "id": "07bb39ac",
   "metadata": {},
   "outputs": [],
   "source": [
    "# importing libraries\n",
    "import pandas as pd\n",
    "import numpy as np\n",
    "import matplotlib.pyplot as plt"
   ]
  },
  {
   "cell_type": "code",
   "execution_count": 3,
   "id": "300d7ece",
   "metadata": {
    "scrolled": true
   },
   "outputs": [
    {
     "data": {
      "text/html": [
       "<div>\n",
       "<style scoped>\n",
       "    .dataframe tbody tr th:only-of-type {\n",
       "        vertical-align: middle;\n",
       "    }\n",
       "\n",
       "    .dataframe tbody tr th {\n",
       "        vertical-align: top;\n",
       "    }\n",
       "\n",
       "    .dataframe thead th {\n",
       "        text-align: right;\n",
       "    }\n",
       "</style>\n",
       "<table border=\"1\" class=\"dataframe\">\n",
       "  <thead>\n",
       "    <tr style=\"text-align: right;\">\n",
       "      <th></th>\n",
       "      <th>Year</th>\n",
       "      <th>CSIRO Adjusted Sea Level</th>\n",
       "      <th>Lower Error Bound</th>\n",
       "      <th>Upper Error Bound</th>\n",
       "      <th>NOAA Adjusted Sea Level</th>\n",
       "    </tr>\n",
       "  </thead>\n",
       "  <tbody>\n",
       "    <tr>\n",
       "      <th>0</th>\n",
       "      <td>1880-03-15</td>\n",
       "      <td>0.000000</td>\n",
       "      <td>-0.952756</td>\n",
       "      <td>0.952756</td>\n",
       "      <td>NaN</td>\n",
       "    </tr>\n",
       "    <tr>\n",
       "      <th>1</th>\n",
       "      <td>1881-03-15</td>\n",
       "      <td>0.220472</td>\n",
       "      <td>-0.732283</td>\n",
       "      <td>1.173228</td>\n",
       "      <td>NaN</td>\n",
       "    </tr>\n",
       "    <tr>\n",
       "      <th>2</th>\n",
       "      <td>1882-03-15</td>\n",
       "      <td>-0.440945</td>\n",
       "      <td>-1.346457</td>\n",
       "      <td>0.464567</td>\n",
       "      <td>NaN</td>\n",
       "    </tr>\n",
       "    <tr>\n",
       "      <th>3</th>\n",
       "      <td>1883-03-15</td>\n",
       "      <td>-0.232283</td>\n",
       "      <td>-1.129921</td>\n",
       "      <td>0.665354</td>\n",
       "      <td>NaN</td>\n",
       "    </tr>\n",
       "    <tr>\n",
       "      <th>4</th>\n",
       "      <td>1884-03-15</td>\n",
       "      <td>0.590551</td>\n",
       "      <td>-0.283465</td>\n",
       "      <td>1.464567</td>\n",
       "      <td>NaN</td>\n",
       "    </tr>\n",
       "    <tr>\n",
       "      <th>...</th>\n",
       "      <td>...</td>\n",
       "      <td>...</td>\n",
       "      <td>...</td>\n",
       "      <td>...</td>\n",
       "      <td>...</td>\n",
       "    </tr>\n",
       "    <tr>\n",
       "      <th>130</th>\n",
       "      <td>2010-03-15</td>\n",
       "      <td>8.901575</td>\n",
       "      <td>8.618110</td>\n",
       "      <td>9.185039</td>\n",
       "      <td>8.122973</td>\n",
       "    </tr>\n",
       "    <tr>\n",
       "      <th>131</th>\n",
       "      <td>2011-03-15</td>\n",
       "      <td>8.964567</td>\n",
       "      <td>8.661417</td>\n",
       "      <td>9.267717</td>\n",
       "      <td>8.053065</td>\n",
       "    </tr>\n",
       "    <tr>\n",
       "      <th>132</th>\n",
       "      <td>2012-03-15</td>\n",
       "      <td>9.326772</td>\n",
       "      <td>8.992126</td>\n",
       "      <td>9.661417</td>\n",
       "      <td>8.457058</td>\n",
       "    </tr>\n",
       "    <tr>\n",
       "      <th>133</th>\n",
       "      <td>2013-03-15</td>\n",
       "      <td>8.980315</td>\n",
       "      <td>8.622047</td>\n",
       "      <td>9.338583</td>\n",
       "      <td>8.546648</td>\n",
       "    </tr>\n",
       "    <tr>\n",
       "      <th>134</th>\n",
       "      <td>2014-03-15</td>\n",
       "      <td>NaN</td>\n",
       "      <td>NaN</td>\n",
       "      <td>NaN</td>\n",
       "      <td>8.663700</td>\n",
       "    </tr>\n",
       "  </tbody>\n",
       "</table>\n",
       "<p>135 rows × 5 columns</p>\n",
       "</div>"
      ],
      "text/plain": [
       "           Year  CSIRO Adjusted Sea Level  Lower Error Bound  \\\n",
       "0    1880-03-15                  0.000000          -0.952756   \n",
       "1    1881-03-15                  0.220472          -0.732283   \n",
       "2    1882-03-15                 -0.440945          -1.346457   \n",
       "3    1883-03-15                 -0.232283          -1.129921   \n",
       "4    1884-03-15                  0.590551          -0.283465   \n",
       "..          ...                       ...                ...   \n",
       "130  2010-03-15                  8.901575           8.618110   \n",
       "131  2011-03-15                  8.964567           8.661417   \n",
       "132  2012-03-15                  9.326772           8.992126   \n",
       "133  2013-03-15                  8.980315           8.622047   \n",
       "134  2014-03-15                       NaN                NaN   \n",
       "\n",
       "     Upper Error Bound  NOAA Adjusted Sea Level  \n",
       "0             0.952756                      NaN  \n",
       "1             1.173228                      NaN  \n",
       "2             0.464567                      NaN  \n",
       "3             0.665354                      NaN  \n",
       "4             1.464567                      NaN  \n",
       "..                 ...                      ...  \n",
       "130           9.185039                 8.122973  \n",
       "131           9.267717                 8.053065  \n",
       "132           9.661417                 8.457058  \n",
       "133           9.338583                 8.546648  \n",
       "134                NaN                 8.663700  \n",
       "\n",
       "[135 rows x 5 columns]"
      ]
     },
     "execution_count": 3,
     "metadata": {},
     "output_type": "execute_result"
    }
   ],
   "source": [
    "df = pd.read_csv(\"epa-sea-level_csv.csv\")\n",
    "df"
   ]
  },
  {
   "cell_type": "code",
   "execution_count": 4,
   "id": "7c367ab4",
   "metadata": {
    "scrolled": true
   },
   "outputs": [
    {
     "name": "stdout",
     "output_type": "stream",
     "text": [
      "0      1880\n",
      "1      1881\n",
      "2      1882\n",
      "3      1883\n",
      "4      1884\n",
      "       ... \n",
      "130    2010\n",
      "131    2011\n",
      "132    2012\n",
      "133    2013\n",
      "134    2014\n",
      "Name: Year, Length: 135, dtype: int64\n"
     ]
    }
   ],
   "source": [
    "tempList = []\n",
    "start = 1880\n",
    "end = 2014\n",
    "while start <= end:\n",
    "    tempList.append(start)\n",
    "    start += 1\n",
    "    \n",
    "df['Year'] = tempList\n",
    "print(df['Year'])\n",
    "    "
   ]
  },
  {
   "cell_type": "code",
   "execution_count": 5,
   "id": "05144a75",
   "metadata": {},
   "outputs": [],
   "source": [
    "df = df.dropna()"
   ]
  },
  {
   "cell_type": "code",
   "execution_count": 6,
   "id": "51e17373",
   "metadata": {},
   "outputs": [],
   "source": [
    "X = df['Year']\n",
    "Y = df['CSIRO Adjusted Sea Level']"
   ]
  },
  {
   "cell_type": "code",
   "execution_count": 7,
   "id": "41e73e2c",
   "metadata": {},
   "outputs": [
    {
     "data": {
      "image/png": "[encoded data removed]",
      "text/plain": [
       "<Figure size 432x288 with 1 Axes>"
      ]
     },
     "metadata": {
      "needs_background": "light"
     },
     "output_type": "display_data"
    }
   ],
   "source": [
    "plt.plot(X,Y)\n",
    "plt.title('The effect of solid fuels on carbon emissions')\n",
    "plt.xlabel('Total number of carbon released by solid fossil fuels')\n",
    "plt.ylabel('Total number of carbon emissions')\n",
    "plt.show()"
   ]
  },
  {
   "cell_type": "code",
   "execution_count": 8,
   "id": "1d39636e",
   "metadata": {},
   "outputs": [],
   "source": [
    "outer = []\n",
    "for i in range(len(Y)):\n",
    "    for x, y in zip(X, Y):\n",
    "        outer.append([x, y])"
   ]
  },
  {
   "cell_type": "code",
   "execution_count": 9,
   "id": "c72e98b2",
   "metadata": {},
   "outputs": [],
   "source": [
    "dt = np.array(outer)\n",
    "x = dt[:, 0]\n",
    "y = dt[:, 1]"
   ]
  },
  {
   "cell_type": "code",
   "execution_count": 10,
   "id": "7ff828f6",
   "metadata": {},
   "outputs": [
    {
     "name": "stdout",
     "output_type": "stream",
     "text": [
      "The parameters of the line: [ 1.44437059e-01 -2.81643574e+02]\n"
     ]
    },
    {
     "data": {
      "image/png": "[encoded data removed]",
      "text/plain": [
       "<Figure size 432x288 with 1 Axes>"
      ]
     },
     "metadata": {
      "needs_background": "light"
     },
     "output_type": "display_data"
    }
   ],
   "source": [
    "theta = np.polyfit(x, y, 1)\n",
    "\n",
    "print(f'The parameters of the line: {theta}')\n",
    "\n",
    "# Now, calculating the y-axis values against x-values according to\n",
    "# the parameters theta0, theta1 and theta2\n",
    "y_line = theta[1] + theta[0] * x\n",
    "\n",
    "# Plotting the data points and the best fit line\n",
    "plt.scatter(x, y)\n",
    "plt.plot(x, y_line, 'r')\n",
    "plt.title('Sea levels over the years')\n",
    "plt.xlabel('Year')\n",
    "plt.ylabel('Sea levels')\n",
    "\n",
    "plt.show()"
   ]
  },
  {
   "cell_type": "markdown",
   "id": "276afe94",
   "metadata": {},
   "source": [
    "y = 1.44x - 2.81"
   ]
  },
  {
   "cell_type": "code",
   "execution_count": null,
   "id": "b40a9132",
   "metadata": {},
   "outputs": [],
   "source": []
  }
 ],
 "metadata": {
  "kernelspec": {
   "display_name": "Python 3 (ipykernel)",
   "language": "python",
   "name": "python3"
  },
  "language_info": {
   "codemirror_mode": {
    "name": "ipython",
    "version": 3
   },
   "file_extension": ".py",
   "mimetype": "text/x-python",
   "name": "python",
   "nbconvert_exporter": "python",
   "pygments_lexer": "ipython3",
   "version": "3.9.7"
  }
 },
 "nbformat": 4,
 "nbformat_minor": 5
}
