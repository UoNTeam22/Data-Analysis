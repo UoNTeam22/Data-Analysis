{
 "cells": [
  {
   "cell_type": "code",
   "execution_count": 3,
   "id": "e3d78c04",
   "metadata": {},
   "outputs": [],
   "source": [
    "import pandas as pd \n",
    "import numpy as np \n",
    "import matplotlib.pyplot as plt\n",
    "\n",
    "#import regex and math library\n",
    "import re\n",
    "import math\n",
    "\n"
   ]
  },
  {
   "cell_type": "code",
   "execution_count": 4,
   "id": "b1d897bc",
   "metadata": {},
   "outputs": [],
   "source": [
    "df = pd.read_csv('../data/Annual_Temperature.csv')\n",
    "\n",
    "def getCountryModelTemp(country_code):\n",
    "    #regex expression used to get all columns containing yearly data\n",
    "    # column headers include F2000, F2001, F2002, F1987 so on\n",
    "    #\\d indicates integer in the regular expression\n",
    "    regex_expr = \"F\\d\\d\\d\\d\"\n",
    "    \n",
    "    #storing all column names of the data frame in a list\n",
    "    col_names = []\n",
    "    for col in df.columns:\n",
    "        col_names.append(col)\n",
    "\n",
    "    #storing the column names in a string which will be used for the regular expression    \n",
    "    string = \"\"\n",
    "    for col in col_names:\n",
    "        string += col\n",
    "\n",
    "    #using the regular expression to get a list containing only the yearly values headers (e.g. F2000, F2001)   \n",
    "    listReg = re.findall(regex_expr, string)\n",
    "    \n",
    "    # storing only the yearly values, object id, and Country headers in a new list\n",
    "    dropped_cols = []\n",
    "    for item in col_names: \n",
    "        if listReg.count(item) == 0 and item != 'ObjectId' and item != 'Country':\n",
    "            dropped_cols.append(item)\n",
    "\n",
    "    # dropping unused columns\n",
    "    modified_df = df\n",
    "    for item in dropped_cols:\n",
    "        modified_df = modified_df.drop(item, axis = 1)\n",
    "\n",
    "\n",
    "    # new, separate data frame without the object id and country headers\n",
    "    row = modified_df[modified_df['ObjectId'] == country_code]\n",
    "    row = row.drop('ObjectId', axis = 1)\n",
    "    row = row.drop('Country', axis = 1)\n",
    "\n",
    "\n",
    "    # getting the values in a 1D array\n",
    "    temp_changes = row.values.tolist()\n",
    "    temp_changes = temp_changes[0]\n",
    "\n",
    "\n",
    "    #1961 is the start year, and thus our start index\n",
    "    start = 1961\n",
    "    x_values = []\n",
    "    y_values = []\n",
    "\n",
    "    for item in temp_changes:\n",
    "        x_values.append(start)\n",
    "        # append if not nan/null\n",
    "        if not math.isnan(item):\n",
    "            y_values.append(item)\n",
    "        start += 1\n",
    "\n",
    "    # getting the y = mx + b model \n",
    "    outer = []\n",
    "    for i in range(len(y_values)):\n",
    "        for x, y in zip(x_values, y_values):\n",
    "            outer.append([x, y])\n",
    "\n",
    "    dt = np.array(outer)\n",
    "    x = dt[:, 0]\n",
    "    y = dt[:, 1]\n",
    "\n",
    "    theta = np.polyfit(x, y, 1)\n",
    "    name = df['Country'].values[country_code - 1]\n",
    "    model_value = f'The model of {name}: {theta}'\n",
    "\n",
    "\n",
    "    return model_value"
   ]
  },
  {
   "cell_type": "code",
   "execution_count": 5,
   "id": "8ec9b273",
   "metadata": {},
   "outputs": [
    {
     "name": "stdout",
     "output_type": "stream",
     "text": [
      "The model of Lithuania: [-1.53523810e-02  3.75312858e+01]\n"
     ]
    }
   ],
   "source": [
    "print(getCountryModelTemp(117))"
   ]
  },
  {
   "cell_type": "code",
   "execution_count": null,
   "id": "af779ff0",
   "metadata": {},
   "outputs": [],
   "source": []
  }
 ],
 "metadata": {
  "kernelspec": {
   "display_name": "Python 3 (ipykernel)",
   "language": "python",
   "name": "python3"
  },
  "language_info": {
   "codemirror_mode": {
    "name": "ipython",
    "version": 3
   },
   "file_extension": ".py",
   "mimetype": "text/x-python",
   "name": "python",
   "nbconvert_exporter": "python",
   "pygments_lexer": "ipython3",
   "version": "3.9.13"
  }
 },
 "nbformat": 4,
 "nbformat_minor": 5
}
